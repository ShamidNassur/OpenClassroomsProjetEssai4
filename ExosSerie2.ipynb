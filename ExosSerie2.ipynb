{
 "cells": [
  {
   "cell_type": "code",
   "execution_count": 1,
   "id": "c2268300",
   "metadata": {},
   "outputs": [
    {
     "name": "stdout",
     "output_type": "stream",
     "text": [
      "2.8583865351131745\n"
     ]
    }
   ],
   "source": [
    "# Premiers pas en python\n",
    "# Exos1:\n",
    "t=6.892\n",
    "d=19.7\n",
    "v=d/t\n",
    "print(v)"
   ]
  },
  {
   "cell_type": "code",
   "execution_count": 2,
   "id": "1ea45f84",
   "metadata": {},
   "outputs": [
    {
     "name": "stdout",
     "output_type": "stream",
     "text": [
      "2.0\n"
     ]
    }
   ],
   "source": [
    "t=6.892\n",
    "d=19.7\n",
    "v=d//t\n",
    "print(v)"
   ]
  },
  {
   "cell_type": "code",
   "execution_count": 3,
   "id": "db72cfec",
   "metadata": {},
   "outputs": [
    {
     "name": "stdout",
     "output_type": "stream",
     "text": [
      "ton nom?Saïd\n"
     ]
    }
   ],
   "source": [
    "# exo2:Saisir un nom et un âge en utilisant l’instruction input()\n",
    "a=input('ton nom?')"
   ]
  },
  {
   "cell_type": "code",
   "execution_count": 4,
   "id": "b7c7454d",
   "metadata": {},
   "outputs": [
    {
     "name": "stdout",
     "output_type": "stream",
     "text": [
      "Saïd\n"
     ]
    }
   ],
   "source": [
    "print(a)"
   ]
  },
  {
   "cell_type": "code",
   "execution_count": 5,
   "id": "d1421319",
   "metadata": {},
   "outputs": [
    {
     "name": "stdout",
     "output_type": "stream",
     "text": [
      "âge?35\n"
     ]
    }
   ],
   "source": [
    "b=input('âge?')"
   ]
  },
  {
   "cell_type": "code",
   "execution_count": 6,
   "id": "502cdb74",
   "metadata": {},
   "outputs": [
    {
     "name": "stdout",
     "output_type": "stream",
     "text": [
      "35\n"
     ]
    }
   ],
   "source": [
    "print(b)"
   ]
  },
  {
   "cell_type": "code",
   "execution_count": 7,
   "id": "0e4b6ed5",
   "metadata": {},
   "outputs": [
    {
     "ename": "NameError",
     "evalue": "name 'raw_input' is not defined",
     "output_type": "error",
     "traceback": [
      "\u001b[1;31m---------------------------------------------------------------------------\u001b[0m",
      "\u001b[1;31mNameError\u001b[0m                                 Traceback (most recent call last)",
      "\u001b[1;32m<ipython-input-7-8f3f5d645287>\u001b[0m in \u001b[0;36m<module>\u001b[1;34m\u001b[0m\n\u001b[1;32m----> 1\u001b[1;33m \u001b[0ma\u001b[0m\u001b[1;33m=\u001b[0m\u001b[0mraw_input\u001b[0m\u001b[1;33m(\u001b[0m\u001b[1;34m'ton nom?'\u001b[0m\u001b[1;33m)\u001b[0m\u001b[1;33m\u001b[0m\u001b[1;33m\u001b[0m\u001b[0m\n\u001b[0m",
      "\u001b[1;31mNameError\u001b[0m: name 'raw_input' is not defined"
     ]
    }
   ],
   "source": [
    "a=raw_input('ton nom?')"
   ]
  },
  {
   "cell_type": "code",
   "execution_count": 4,
   "id": "30915ee1",
   "metadata": {},
   "outputs": [
    {
     "ename": "SyntaxError",
     "evalue": "invalid syntax (<ipython-input-4-9bf5ddbcde91>, line 8)",
     "output_type": "error",
     "traceback": [
      "\u001b[1;36m  File \u001b[1;32m\"<ipython-input-4-9bf5ddbcde91>\"\u001b[1;36m, line \u001b[1;32m8\u001b[0m\n\u001b[1;33m    else:\u001b[0m\n\u001b[1;37m    ^\u001b[0m\n\u001b[1;31mSyntaxError\u001b[0m\u001b[1;31m:\u001b[0m invalid syntax\n"
     ]
    }
   ],
   "source": [
    "# \"Contôle du flux d'instructions\"\n",
    "# exo1:\n",
    "import math as ma\n",
    "a=3.14569\n",
    "if a>=0:\n",
    "    i=ma.sqrt(a)\n",
    "    print(i)\n",
    "    else:\n",
    "        print \"error\"\n",
    "    \n",
    "    \n"
   ]
  },
  {
   "cell_type": "code",
   "execution_count": 5,
   "id": "218eaeae",
   "metadata": {},
   "outputs": [
    {
     "name": "stdout",
     "output_type": "stream",
     "text": [
      "e\n",
      "c\n",
      "r\n",
      "i\n",
      "t\n",
      "u\n",
      "r\n",
      "e\n"
     ]
    }
   ],
   "source": [
    "# exo6: Afficher chaque caractère d'une chaîne\n",
    "for i in \"ecriture\":\n",
    "    print(i)"
   ]
  },
  {
   "cell_type": "code",
   "execution_count": 6,
   "id": "6d26c8f1",
   "metadata": {},
   "outputs": [
    {
     "name": "stdout",
     "output_type": "stream",
     "text": [
      "Ali\n",
      "10\n",
      "prof\n",
      "garçon\n",
      "fille\n",
      "toiletes\n"
     ]
    }
   ],
   "source": [
    "# Afficher chaque élément d’une liste en utilisant une boucle for\n",
    "classe=['Ali', 10, 'prof', 'garçon', 'fille', 'toiletes']\n",
    "for i in classe:\n",
    "    print(i)"
   ]
  },
  {
   "cell_type": "code",
   "execution_count": 21,
   "id": "9155167c",
   "metadata": {},
   "outputs": [
    {
     "name": "stdout",
     "output_type": "stream",
     "text": [
      "0\n",
      "3\n",
      "6\n",
      "9\n",
      "12\n",
      "15\n",
      "18\n",
      "21\n",
      "24\n",
      "27\n",
      "30\n",
      "33\n",
      "36\n",
      "39\n",
      "42\n"
     ]
    }
   ],
   "source": [
    "#exo7:Affichez les entiers de 0 à 15 non compris, de trois en trois, en utilisant une boucle for\n",
    "\n",
    "for i in range(15):\n",
    "    i=i*3\n",
    "    print(i)\n",
    "\n"
   ]
  },
  {
   "cell_type": "code",
   "execution_count": 22,
   "id": "b451371e",
   "metadata": {},
   "outputs": [
    {
     "name": "stdout",
     "output_type": "stream",
     "text": [
      "[10, 17, 25, 38, 72]\n"
     ]
    }
   ],
   "source": [
    "# Structures de données python\n",
    "#exo1: \n",
    "L =[17, 38, 10, 25, 72]\n",
    "#tri par ordre croissant\n",
    "L.sort()\n",
    "print(L)"
   ]
  },
  {
   "cell_type": "code",
   "execution_count": 23,
   "id": "a772a06d",
   "metadata": {},
   "outputs": [
    {
     "name": "stdout",
     "output_type": "stream",
     "text": [
      "[72, 38, 25, 17, 10]\n"
     ]
    }
   ],
   "source": [
    "#tri par ordre décroissant \n",
    "L.sort(reverse=True)\n",
    "print(L)"
   ]
  },
  {
   "cell_type": "code",
   "execution_count": 25,
   "id": "44f674e0",
   "metadata": {},
   "outputs": [
    {
     "name": "stdout",
     "output_type": "stream",
     "text": [
      "[72, 38, 25, 17, 10, 12]\n"
     ]
    }
   ],
   "source": [
    " # Ajouter l’élément 12 à la liste et affichez la liste\n",
    "L.append(12)\n",
    "print(L)"
   ]
  },
  {
   "cell_type": "markdown",
   "id": "57da39ac",
   "metadata": {},
   "source": [
    "L.index(17)\n"
   ]
  },
  {
   "cell_type": "code",
   "execution_count": 26,
   "id": "40ecb4a9",
   "metadata": {},
   "outputs": [
    {
     "data": {
      "text/plain": [
       "3"
      ]
     },
     "execution_count": 26,
     "metadata": {},
     "output_type": "execute_result"
    }
   ],
   "source": [
    "#  Afficher l’indice de l’élément 17 \n",
    "L.index(17)"
   ]
  },
  {
   "cell_type": "code",
   "execution_count": 27,
   "id": "7215b571",
   "metadata": {},
   "outputs": [
    {
     "name": "stdout",
     "output_type": "stream",
     "text": [
      "[72, 25, 17, 10, 12]\n"
     ]
    }
   ],
   "source": [
    "# Enlever l'élément 38 et afficher la liste\n",
    "L=[72, 38, 25, 17, 10, 12]\n",
    "L.remove(38)\n",
    "print(L)"
   ]
  },
  {
   "cell_type": "code",
   "execution_count": 28,
   "id": "83df3ebc",
   "metadata": {},
   "outputs": [
    {
     "name": "stdout",
     "output_type": "stream",
     "text": [
      "[38, 25]\n"
     ]
    }
   ],
   "source": [
    "# Afficher la sous-liste du 2eme au 3eme élément\n",
    "L=[72, 38, 25, 17, 10, 12]\n",
    "print(L[1:3])"
   ]
  },
  {
   "cell_type": "code",
   "execution_count": 29,
   "id": "43357fc6",
   "metadata": {},
   "outputs": [
    {
     "name": "stdout",
     "output_type": "stream",
     "text": [
      "[72, 38]\n"
     ]
    }
   ],
   "source": [
    "#  Afficher la sous-liste du début au 2e élément \n",
    "print(L[:2])"
   ]
  },
  {
   "cell_type": "code",
   "execution_count": 30,
   "id": "3396b5c5",
   "metadata": {},
   "outputs": [
    {
     "name": "stdout",
     "output_type": "stream",
     "text": [
      "[25, 17, 10]\n"
     ]
    }
   ],
   "source": [
    "#  Afficher la sous-liste du 3eélément à la fin de la liste \n",
    "\n",
    "print(L[2:-1])\n"
   ]
  },
  {
   "cell_type": "code",
   "execution_count": 31,
   "id": "af4c65dd",
   "metadata": {},
   "outputs": [
    {
     "name": "stdout",
     "output_type": "stream",
     "text": [
      "[25, 17, 10, 12]\n"
     ]
    }
   ],
   "source": [
    "# Afficher la sous-liste complète de la liste\n",
    "l =[25, 17, 10]\n",
    "l.extend([12])\n",
    "print(l)"
   ]
  },
  {
   "cell_type": "code",
   "execution_count": 32,
   "id": "b5115c8a",
   "metadata": {},
   "outputs": [
    {
     "name": "stdout",
     "output_type": "stream",
     "text": [
      "12\n"
     ]
    }
   ],
   "source": [
    "# Afficher le dernier élément en utilisant un indiçage négatif\n",
    "print(L[-1])"
   ]
  },
  {
   "cell_type": "code",
   "execution_count": null,
   "id": "bae91c75",
   "metadata": {},
   "outputs": [],
   "source": []
  }
 ],
 "metadata": {
  "kernelspec": {
   "display_name": "Python 3",
   "language": "python",
   "name": "python3"
  },
  "language_info": {
   "codemirror_mode": {
    "name": "ipython",
    "version": 3
   },
   "file_extension": ".py",
   "mimetype": "text/x-python",
   "name": "python",
   "nbconvert_exporter": "python",
   "pygments_lexer": "ipython3",
   "version": "3.8.8"
  }
 },
 "nbformat": 4,
 "nbformat_minor": 5
}
